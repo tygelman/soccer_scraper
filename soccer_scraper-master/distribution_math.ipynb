{
 "cells": [
  {
   "cell_type": "code",
   "execution_count": 9,
   "metadata": {},
   "outputs": [
    {
     "name": "stdout",
     "output_type": "stream",
     "text": [
      "Populating the interactive namespace from numpy and matplotlib\n"
     ]
    }
   ],
   "source": [
    "%pylab inline\n",
    "import scipy.stats as st"
   ]
  },
  {
   "cell_type": "code",
   "execution_count": 25,
   "metadata": {},
   "outputs": [
    {
     "name": "stdout",
     "output_type": "stream",
     "text": [
      "Likelihood of beloning to the college SAT/ACT dist over other:\n",
      "0.768176371212837\n"
     ]
    }
   ],
   "source": [
    "x = 18\n",
    "\n",
    "a25 = 16\n",
    "a75 = 19\n",
    "m = (a25 + a75)/2\n",
    "s = (a75 - m)/st.norm.ppf(.75)\n",
    "\n",
    "other_a25 = 10\n",
    "other_a75 = 17\n",
    "other_m = (other_a25 + other_a75)/2\n",
    "other_s = (other_a75 - other_m)/st.norm.ppf(.75)\n",
    "\n",
    "def get_stats(a25, a75):\n",
    "    return ((a25 + a75)/2, (a75 - m)/st.norm.ppf(.75))\n",
    "\n",
    "\n",
    "def pdf(x, m, s):\n",
    "    num = np.e**((-1*(x-m)**2)/(2 * (s**2)))\n",
    "    denom = s * (2*(np.pi**.5))\n",
    "    return num/denom\n",
    "\n",
    "print('Likelihood of beloning to the college SAT/ACT dist over other:')\n",
    "print(pdf(x, m, s)/(pdf(x, other_m, other_s) + pdf(x, m, s)))"
   ]
  },
  {
   "cell_type": "code",
   "execution_count": 34,
   "metadata": {},
   "outputs": [
    {
     "data": {
      "text/plain": [
       "2.223903327758403"
      ]
     },
     "execution_count": 34,
     "metadata": {},
     "output_type": "execute_result"
    }
   ],
   "source": [
    "z75 = 0.674\n",
    "z25 = -0.674"
   ]
  },
  {
   "cell_type": "code",
   "execution_count": 33,
   "metadata": {},
   "outputs": [
    {
     "data": {
      "text/plain": [
       "1.5"
      ]
     },
     "execution_count": 33,
     "metadata": {},
     "output_type": "execute_result"
    }
   ],
   "source": [
    "np.std([16, 19])"
   ]
  },
  {
   "cell_type": "code",
   "execution_count": 37,
   "metadata": {},
   "outputs": [
    {
     "data": {
      "text/plain": [
       "0.7498443431596774"
      ]
     },
     "execution_count": 37,
     "metadata": {},
     "output_type": "execute_result"
    }
   ],
   "source": [
    "st.norm.cdf(0.674)"
   ]
  },
  {
   "cell_type": "code",
   "execution_count": 29,
   "metadata": {},
   "outputs": [
    {
     "data": {
      "text/plain": [
       "[<matplotlib.lines.Line2D at 0x7fa808d00e50>]"
      ]
     },
     "execution_count": 29,
     "metadata": {},
     "output_type": "execute_result"
    },
    {
     "data": {
      "image/png": "[encoded data removed]",
      "text/plain": [
       "<Figure size 432x288 with 1 Axes>"
      ]
     },
     "metadata": {
      "needs_background": "light"
     },
     "output_type": "display_data"
    }
   ],
   "source": [
    "\n",
    "plt.plot([st.norm.cdf(i) for i in np.arange(-3,3,.1)])"
   ]
  },
  {
   "cell_type": "code",
   "execution_count": null,
   "metadata": {},
   "outputs": [],
   "source": []
  }
 ],
 "metadata": {
  "kernelspec": {
   "display_name": "Python 3",
   "language": "python",
   "name": "python3"
  },
  "language_info": {
   "codemirror_mode": {
    "name": "ipython",
    "version": 3
   },
   "file_extension": ".py",
   "mimetype": "text/x-python",
   "name": "python",
   "nbconvert_exporter": "python",
   "pygments_lexer": "ipython3",
   "version": "3.8.5"
  }
 },
 "nbformat": 4,
 "nbformat_minor": 4
}
